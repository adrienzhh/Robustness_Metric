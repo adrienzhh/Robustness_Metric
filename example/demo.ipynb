{
 "cells": [
  {
   "cell_type": "markdown",
   "metadata": {
    "slideshow": {
     "slide_type": "slide"
    }
   },
   "source": [
    "\n",
    "# Robustness Metrics demo\n"
   ]
  },
  {
   "cell_type": "markdown",
   "metadata": {
    "slideshow": {
     "slide_type": "slide"
    }
   },
   "source": [
    "## Setup"
   ]
  },
  {
   "cell_type": "code",
   "execution_count": 7,
   "metadata": {
    "slideshow": {
     "slide_type": "fragment"
    }
   },
   "outputs": [
    {
     "name": "stdout",
     "output_type": "stream",
     "text": [
      "[DEBUG][2024-08-08 00:01:24,608][log.configure_logging():113]\n",
      "System info:\n",
      "Python 3.8.10\n",
      "Linux-5.4.0-190-generic-x86_64-with-glibc2.29\n",
      "zhh@zhh-MS-7E07\n",
      "\n"
     ]
    }
   ],
   "source": [
    "from evo.core import metrics\n",
    "from evo.core.units import Unit\n",
    "from evo.tools import log\n",
    "log.configure_logging(verbose=True, debug=True, silent=False)\n",
    "import pprint\n",
    "import numpy as np\n",
    "from evo.tools import plot\n",
    "import matplotlib.pyplot as plt\n",
    "from evo.tools.settings import SETTINGS\n",
    "import torch\n",
    "import sys\n",
    "sys.path.insert(1, '../script')\n"
   ]
  },
  {
   "cell_type": "markdown",
   "metadata": {
    "slideshow": {
     "slide_type": "subslide"
    }
   },
   "source": [
    "**Load two example trajectory files in TUM format;**"
   ]
  },
  {
   "cell_type": "code",
   "execution_count": 8,
   "metadata": {
    "scrolled": false,
    "slideshow": {
     "slide_type": "fragment"
    }
   },
   "outputs": [
    {
     "name": "stdout",
     "output_type": "stream",
     "text": [
      "[DEBUG][2024-08-08 00:01:24,652][file_interface.read_tum_trajectory_file():118]\n",
      "Loaded 3000 stamps and poses from: ../test/data/freiburg1_xyz-groundtruth.txt\n",
      "[DEBUG][2024-08-08 00:01:24,656][file_interface.read_tum_trajectory_file():118]\n",
      "Loaded 788 stamps and poses from: ../test/data/freiburg1_xyz-rgbdslam_drift.txt\n",
      "Length of reference trajectory: 3000\n",
      "Length of estimated trajectory: 788\n"
     ]
    }
   ],
   "source": [
    "from evo.tools import file_interface\n",
    "\n",
    "ref_file = \"../test/data/freiburg1_xyz-groundtruth.txt\"\n",
    "est_file = \"../test/data/freiburg1_xyz-rgbdslam_drift.txt\"\n",
    "\n",
    "traj_ref = file_interface.read_tum_trajectory_file(ref_file)\n",
    "traj_est = file_interface.read_tum_trajectory_file(est_file)\n",
    "\n",
    "\n",
    "print(f\"Length of reference trajectory: {len(traj_ref.positions_xyz)}\")\n",
    "print(f\"Length of estimated trajectory: {len(traj_est.positions_xyz)}\")"
   ]
  },
  {
   "cell_type": "markdown",
   "metadata": {},
   "source": [
    " **Obtain pairs via matching timestamps:**"
   ]
  },
  {
   "cell_type": "code",
   "execution_count": 9,
   "metadata": {},
   "outputs": [
    {
     "name": "stdout",
     "output_type": "stream",
     "text": [
      "[DEBUG][2024-08-08 00:01:24,664][sync.associate_trajectories():110]\n",
      "Found 785 of max. 788 possible matching timestamps between...\n",
      "\tfirst trajectory\n",
      "and:\tsecond trajectory\n",
      "..with max. time diff.: 0.01 (s) and time offset: 0.0 (s).\n",
      "Length of reference trajectory: 785\n",
      "Length of estimated trajectory: 785\n"
     ]
    }
   ],
   "source": [
    "from evo.core import sync\n",
    "\n",
    "max_diff = 0.01\n",
    "traj_ref, traj_est = sync.associate_trajectories(traj_ref, traj_est, max_diff)\n",
    "print(f\"Length of reference trajectory: {len(traj_ref.positions_xyz)}\")\n",
    "print(f\"Length of estimated trajectory: {len(traj_est.positions_xyz)}\")"
   ]
  },
  {
   "cell_type": "markdown",
   "metadata": {},
   "source": [
    "**Plot the trajectories:**"
   ]
  },
  {
   "cell_type": "code",
   "execution_count": 10,
   "metadata": {},
   "outputs": [],
   "source": [
    "# fig = plt.figure()\n",
    "# traj_by_label = {\n",
    "#     \"estimate (not aligned)\": traj_est,\n",
    "#     \"reference\": traj_ref\n",
    "# }\n",
    "# plot.trajectories(fig, traj_by_label, plot.PlotMode.xyz)\n",
    "# plt.show()"
   ]
  },
  {
   "cell_type": "markdown",
   "metadata": {},
   "source": [
    "**F score calculation:**"
   ]
  },
  {
   "cell_type": "code",
   "execution_count": 11,
   "metadata": {},
   "outputs": [
    {
     "name": "stdout",
     "output_type": "stream",
     "text": [
      "F-score for translation: 0.2878980891719745 for rotation: 1.0\n"
     ]
    }
   ],
   "source": [
    "from robustness import RobustnessMetric\n",
    "\n",
    "# Convert the positions to the format expected by RobustnessMetric\n",
    "trans_deriv1 = [torch.tensor(pos) for pos in traj_est.positions_xyz]\n",
    "trans_deriv2 = [torch.tensor(pos) for pos in traj_ref.positions_xyz]\n",
    "\n",
    "# For simplicity, assume rotational derivatives are zero (as they are not provided in the example)\n",
    "rot_deriv1 = [torch.tensor([0.0, 0.0, 0.0]) for _ in traj_est.positions_xyz]\n",
    "rot_deriv2 = [torch.tensor([0.0, 0.0, 0.0]) for _ in traj_ref.positions_xyz]\n",
    "\n",
    "trans_threshold = 0.1\n",
    "rot_threshold = 0.1\n",
    "\n",
    "\n",
    "fscore_trans, fscore_rot = RobustnessMetric.calc_fscore(\n",
    "    trans_deriv1, rot_deriv1, trans_deriv2, rot_deriv2, trans_threshold, rot_threshold\n",
    ")\n",
    "\n",
    "print(f\"F-score for translation: {fscore_trans} for rotation: {fscore_rot}\")\n",
    "\n",
    "\n"
   ]
  },
  {
   "cell_type": "markdown",
   "metadata": {},
   "source": [
    "**AUC calculation**"
   ]
  },
  {
   "cell_type": "code",
   "execution_count": 12,
   "metadata": {},
   "outputs": [
    {
     "ename": "NameError",
     "evalue": "name 'asdasdasd' is not defined",
     "output_type": "error",
     "traceback": [
      "\u001b[0;31m---------------------------------------------------------------------------\u001b[0m",
      "\u001b[0;31mNameError\u001b[0m                                 Traceback (most recent call last)",
      "Cell \u001b[0;32mIn[12], line 9\u001b[0m\n\u001b[1;32m      5\u001b[0m threshold_interval \u001b[38;5;241m=\u001b[39m \u001b[38;5;241m0.1\u001b[39m\n\u001b[1;32m      8\u001b[0m \u001b[38;5;66;03m## calculate AUC\u001b[39;00m\n\u001b[0;32m----> 9\u001b[0m result \u001b[38;5;241m=\u001b[39m \u001b[43mRobustnessMetric\u001b[49m\u001b[38;5;241;43m.\u001b[39;49m\u001b[43meval_robustness_batch\u001b[49m\u001b[43m(\u001b[49m\n\u001b[1;32m     10\u001b[0m \u001b[43m    \u001b[49m\u001b[43mtrans_deriv1\u001b[49m\u001b[43m,\u001b[49m\u001b[43m \u001b[49m\u001b[43mrot_deriv1\u001b[49m\u001b[43m,\u001b[49m\u001b[43m \u001b[49m\u001b[43mtrans_deriv2\u001b[49m\u001b[43m,\u001b[49m\u001b[43m \u001b[49m\u001b[43mrot_deriv2\u001b[49m\u001b[43m,\u001b[49m\n\u001b[1;32m     11\u001b[0m \u001b[43m    \u001b[49m\u001b[43mthreshold_start\u001b[49m\u001b[43m,\u001b[49m\u001b[43m \u001b[49m\u001b[43mthreshold_end\u001b[49m\u001b[43m,\u001b[49m\u001b[43m \u001b[49m\u001b[43mthreshold_interval\u001b[49m\n\u001b[1;32m     12\u001b[0m \u001b[43m)\u001b[49m\n\u001b[1;32m     14\u001b[0m \u001b[38;5;28mprint\u001b[39m(result)\n",
      "File \u001b[0;32m~/Robustness_Metric/example/../script/robustness.py:82\u001b[0m, in \u001b[0;36mRobustnessMetric.eval_robustness_batch\u001b[0;34m(trans_deriv1, rot_deriv1, trans_deriv2, rot_deriv2, threshold_start, threshold_end, threshold_interval)\u001b[0m\n\u001b[1;32m     79\u001b[0m \u001b[38;5;28;01mwhile\u001b[39;00m threshold \u001b[38;5;241m<\u001b[39m\u001b[38;5;241m=\u001b[39m threshold_end:\n\u001b[1;32m     80\u001b[0m     fscore_trans, fscore_rot \u001b[38;5;241m=\u001b[39m RobustnessMetric\u001b[38;5;241m.\u001b[39mcalc_fscore(\n\u001b[1;32m     81\u001b[0m         trans_deriv1, rot_deriv1, trans_deriv2, rot_deriv2, threshold, threshold)\n\u001b[0;32m---> 82\u001b[0m     \u001b[43masdasdasd\u001b[49m\n\u001b[1;32m     83\u001b[0m     x_axis_len \u001b[38;5;241m=\u001b[39m torch\u001b[38;5;241m.\u001b[39mexp(\u001b[38;5;241m-\u001b[39m\u001b[38;5;241m10.0\u001b[39m \u001b[38;5;241m*\u001b[39m (threshold \u001b[38;5;241m-\u001b[39m threshold_interval \u001b[38;5;241m*\u001b[39m \u001b[38;5;241m0.5\u001b[39m)) \u001b[38;5;241m-\u001b[39m torch\u001b[38;5;241m.\u001b[39mexp(\u001b[38;5;241m-\u001b[39m\u001b[38;5;241m10.0\u001b[39m \u001b[38;5;241m*\u001b[39m (threshold \u001b[38;5;241m+\u001b[39m threshold_interval \u001b[38;5;241m*\u001b[39m \u001b[38;5;241m0.5\u001b[39m))\n\u001b[1;32m     84\u001b[0m     fscore_area_trans \u001b[38;5;241m+\u001b[39m\u001b[38;5;241m=\u001b[39m fscore_trans \u001b[38;5;241m*\u001b[39m x_axis_len\n",
      "\u001b[0;31mNameError\u001b[0m: name 'asdasdasd' is not defined"
     ]
    }
   ],
   "source": [
    "from robustness import RobustnessMetric\n",
    "# Thresholds\n",
    "threshold_start = 0.0\n",
    "threshold_end = 1.0\n",
    "threshold_interval = 0.1\n",
    "\n",
    "## calculate AUC\n",
    "result = RobustnessMetric.eval_robustness_batch(\n",
    "    trans_deriv1, rot_deriv1, trans_deriv2, rot_deriv2,\n",
    "    threshold_start, threshold_end, threshold_interval\n",
    ")\n",
    "\n",
    "print(result)\n",
    "\n"
   ]
  },
  {
   "cell_type": "code",
   "execution_count": null,
   "metadata": {},
   "outputs": [],
   "source": []
  }
 ],
 "metadata": {
  "kernelspec": {
   "display_name": "Python 3",
   "language": "python",
   "name": "python3"
  },
  "language_info": {
   "codemirror_mode": {
    "name": "ipython",
    "version": 3
   },
   "file_extension": ".py",
   "mimetype": "text/x-python",
   "name": "python",
   "nbconvert_exporter": "python",
   "pygments_lexer": "ipython3",
   "version": "3.8.10"
  }
 },
 "nbformat": 4,
 "nbformat_minor": 1
}
